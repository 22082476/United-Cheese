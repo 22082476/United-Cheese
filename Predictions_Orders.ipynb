{
 "cells": [
  {
   "cell_type": "markdown",
   "metadata": {},
   "source": [
    "## Supervised linear regression\n",
    "\n",
    "Voor het product: 45 over het komende jaar"
   ]
  },
  {
   "cell_type": "code",
   "execution_count": null,
   "metadata": {},
   "outputs": [],
   "source": [
    "import pandas as pd\n",
    "import pyodbc\n",
    "from sklearn.model_selection import train_test_split\n",
    "from sklearn import linear_model\n",
    "from sklearn.linear_model import LinearRegression\n",
    "from sklearn.metrics import mean_squared_error, mean_absolute_error\n",
    "import matplotlib.pyplot as plt\n",
    "database = {'servername': 'localhost\\SQLEXPRESS',\n",
    "            'database': 'DATAWAREHOUSE'}\n",
    "format = '%d-%m-%Y'\n",
    "\n",
    "conn_str = ('DRIVER={SQL Server};'\n",
    "            f'SERVER={database[\"servername\"]};'\n",
    "            f'DATABASE={database[\"database\"]};'\n",
    "            'Trusted_Connection=yes')\n",
    "\n",
    "query = \"SELECT * FROM dbo.sales_order\"\n",
    "\n",
    "#inladen naar df\n",
    "try:\n",
    "    with pyodbc.connect(conn_str) as conn:\n",
    "        product_df = pd.read_sql_query(query, conn)\n",
    "except Exception as e:\n",
    "    print(f\"An error occurred: {e}\")\n"
   ]
  },
  {
   "cell_type": "code",
   "execution_count": null,
   "metadata": {},
   "outputs": [],
   "source": [
    "# opsplitsen naar verschillende df's\n",
    "\n",
    "orders_from_nw = product_df[product_df['product_id'].str.contains('NW')]\n",
    "orders_from_aenc = product_df[product_df['product_id'].str.contains('AC')]\n",
    "orders_from_aw = product_df[product_df['product_id'].str.contains('AW')]\n",
    "\n",
    "orders_from_aenc\n"
   ]
  },
  {
   "cell_type": "code",
   "execution_count": null,
   "metadata": {},
   "outputs": [],
   "source": [
    "from sklearn.model_selection import train_test_split\n",
    "from sklearn import linear_model\n",
    "from sklearn.linear_model import LinearRegression\n",
    "from sklearn.metrics import mean_squared_error, mean_absolute_error\n",
    "import matplotlib.pyplot as plt\n",
    "\n",
    "product_df"
   ]
  },
  {
   "cell_type": "markdown",
   "metadata": {},
   "source": [
    "# NW"
   ]
  },
  {
   "cell_type": "code",
   "execution_count": null,
   "metadata": {},
   "outputs": [],
   "source": [
    "import pandas as pd\n",
    "\n",
    "def extract_year_month(df, date_column):\n",
    "    df['year_month'] = df[date_column].dt.strftime('%Y-%m')\n",
    "    return df\n",
    "\n",
    "\n",
    "grouped_orders = orders_from_nw.groupby(['order_date']).agg({'id': 'count'})\n",
    "sorted_orders = grouped_orders.reset_index().rename(columns={'id': 'order_count'})\n",
    "sorted_orders = extract_year_month(sorted_orders, 'order_date')\n",
    "\n",
    "sorted_orders.drop(['order_date'], axis=1, inplace=True)\n",
    "sorted_orders = sorted_orders.groupby(['year_month']).agg({'order_count': 'sum'})\n",
    "sorted_orders =  sorted_orders.reset_index()\n",
    "\n",
    "orders = sorted_orders['order_count']\n",
    "dates = sorted_orders['year_month']\n",
    "\n",
    "values_dict = {dates[x]: orders[x] for x in range(len(orders) - 1)}\n",
    "dates_2 = []\n",
    "orders_2 = []\n",
    "for k, v in values_dict.items():\n",
    "    dates_2.append(k)\n",
    "    orders_2.append(v)\n",
    "\n",
    "values_dict = pd.DataFrame(values_dict, index=[0])\n",
    "\n",
    "fin = {'year_month': dates_2, 'order_count': orders_2}\n",
    "finished_df = pd.DataFrame(fin)\n",
    "finished_df\n"
   ]
  },
  {
   "cell_type": "code",
   "execution_count": null,
   "metadata": {},
   "outputs": [],
   "source": [
    "import pandas as pd\n",
    "from statsmodels.tsa.arima.model import ARIMA\n",
    "\n",
    "p, d, q = 1, 1, 1  \n",
    "model = ARIMA(finished_df['order_count'], order=(p, d, q))\n",
    "model_fit = model.fit()\n",
    "\n",
    "forecast_steps = 1\n",
    "future_dates = pd.date_range(start=pd.to_datetime('1998-05'), periods=forecast_steps, freq='M')\n",
    "future_forecast = model_fit.forecast(steps=forecast_steps)\n",
    "\n",
    "future_forecast_df = pd.DataFrame({'year_month': future_dates.strftime('%Y-%m'), 'order_count': int(future_forecast)})\n",
    "finished_df = pd.concat([finished_df, future_forecast_df])\n",
    "\n",
    "values_dict = {**values_dict, **{future_forecast_df.iloc[i]['year_month']: future_forecast_df.iloc[i]['order_count'] for i in range(len(future_forecast_df))}}\n",
    "values_dict = pd.DataFrame(values_dict, index=[0])\n",
    "values_dict\n"
   ]
  },
  {
   "cell_type": "code",
   "execution_count": null,
   "metadata": {},
   "outputs": [],
   "source": [
    "import matplotlib.pyplot as plt\n",
    "\n",
    "# Gegevens\n",
    "dates = values_dict.columns\n",
    "order_counts = values_dict.values[0]\n",
    "\n",
    "# Maak de plot\n",
    "plt.figure(figsize=(10, 6))\n",
    "plt.plot(dates, order_counts, marker='o', linestyle='-')\n",
    "plt.title('Voorspelde bestellingen voor NW')\n",
    "plt.xlabel('Year-Month')\n",
    "plt.ylabel('Order Count')\n",
    "plt.grid(True)\n",
    "plt.xticks(rotation=45)\n",
    "plt.tight_layout()\n",
    "plt.show()\n"
   ]
  },
  {
   "cell_type": "markdown",
   "metadata": {},
   "source": [
    "2"
   ]
  },
  {
   "cell_type": "markdown",
   "metadata": {},
   "source": [
    "#aenc"
   ]
  },
  {
   "cell_type": "code",
   "execution_count": null,
   "metadata": {},
   "outputs": [],
   "source": [
    "import pandas as pd\n",
    "\n",
    "def extract_year_month(df, date_column):\n",
    "    df['year_month'] = df[date_column].dt.strftime('%Y-%m')\n",
    "    return df\n",
    "\n",
    "grouped_orders = orders_from_aenc.groupby(['order_date']).agg({'id': 'count'})\n",
    "sorted_orders = grouped_orders.reset_index().rename(columns={'id': 'order_count'})\n",
    "sorted_orders = extract_year_month(sorted_orders, 'order_date')\n",
    "\n",
    "sorted_orders.drop(['order_date'], axis=1, inplace=True)\n",
    "sorted_orders = sorted_orders.groupby(['year_month']).agg({'order_count': 'sum'})\n",
    "sorted_orders =  sorted_orders.reset_index()\n",
    "\n",
    "orders = sorted_orders['order_count']\n",
    "dates = sorted_orders['year_month']\n",
    "\n",
    "values_dict = {dates[x]: orders[x] for x in range(len(orders)-2)}\n",
    "dates_2 = []\n",
    "orders_2 = []\n",
    "for k, v in values_dict.items():\n",
    "    dates_2.append(k)\n",
    "    orders_2.append(v)\n",
    "\n",
    "values_dict = pd.DataFrame(values_dict, index=[0])\n",
    "fin = {'year_month': dates_2, 'order_count': orders_2}\n",
    "finished_df = pd.DataFrame(fin)\n",
    "finished_df\n",
    "\n"
   ]
  },
  {
   "cell_type": "code",
   "execution_count": null,
   "metadata": {},
   "outputs": [],
   "source": [
    "import pandas as pd\n",
    "from statsmodels.tsa.arima.model import ARIMA\n",
    "\n",
    "p, d, q = 1, 1, 1 \n",
    "model = ARIMA(finished_df['order_count'], order=(p, d, q))\n",
    "model_fit = model.fit()\n",
    "\n",
    "forecast_steps = 1\n",
    "future_dates = pd.date_range(start=pd.to_datetime('1998-12'), periods=forecast_steps, freq='M')\n",
    "future_forecast = model_fit.forecast(steps=forecast_steps)\n",
    "\n",
    "future_forecast_df = pd.DataFrame({'year_month': future_dates.strftime('%Y-%m'), 'order_count': int(future_forecast)})\n",
    "finished_df = pd.concat([finished_df, future_forecast_df])\n",
    "\n",
    "values_dict = {**values_dict, **{future_forecast_df.iloc[i]['year_month']: future_forecast_df.iloc[i]['order_count'] for i in range(len(future_forecast_df))}}\n",
    "values_dict = pd.DataFrame(values_dict, index=[0])\n",
    "values_dict\n",
    "\n"
   ]
  },
  {
   "cell_type": "code",
   "execution_count": null,
   "metadata": {},
   "outputs": [],
   "source": [
    "import matplotlib.pyplot as plt\n",
    "\n",
    "# Gegevens\n",
    "dates = values_dict.columns\n",
    "order_counts = values_dict.values[0]\n",
    "\n",
    "# Maak de plot\n",
    "plt.figure(figsize=(10, 6))\n",
    "plt.plot(dates, order_counts, marker='o', linestyle='-')\n",
    "plt.title('Voorspelde bestellingen voor AENC')\n",
    "plt.xlabel('Year-Month')\n",
    "plt.ylabel('Order Count')\n",
    "plt.grid(True)\n",
    "plt.xticks(rotation=45)\n",
    "plt.tight_layout()\n",
    "plt.show()\n"
   ]
  },
  {
   "cell_type": "markdown",
   "metadata": {},
   "source": [
    "#aw"
   ]
  },
  {
   "cell_type": "code",
   "execution_count": null,
   "metadata": {},
   "outputs": [],
   "source": [
    "import pandas as pd\n",
    "\n",
    "def extract_year_month(df, date_column):\n",
    "    df['year_month'] = df[date_column].dt.strftime('%Y-%m')\n",
    "    return df\n",
    "\n",
    "grouped_orders = orders_from_aw.groupby(['order_date']).agg({'id': 'count'})\n",
    "sorted_orders = grouped_orders.reset_index().rename(columns={'id': 'order_count'})\n",
    "\n",
    "sorted_orders = extract_year_month(sorted_orders, 'order_date')\n",
    "\n",
    "sorted_orders.drop(['order_date'], axis=1, inplace=True)\n",
    "sorted_orders = sorted_orders.groupby(['year_month']).agg({'order_count': 'sum'})\n",
    "sorted_orders =  sorted_orders.reset_index()\n",
    "sorted_orders\n",
    "\n",
    "orders = sorted_orders['order_count']\n",
    "dates = sorted_orders['year_month']\n",
    "\n",
    "values_dict = {dates[x]: orders[x] for x in range(len(orders))}\n",
    "dates_2 = []\n",
    "orders_2 = []\n",
    "for k, v in values_dict.items():\n",
    "    dates_2.append(k)\n",
    "    orders_2.append(v)\n",
    "\n",
    "values_dict = pd.DataFrame(values_dict, index=[0])\n",
    "\n",
    "fin = {'year_month': dates_2, 'order_count': orders_2}\n",
    "finished_df = pd.DataFrame(fin)\n",
    "finished_df\n",
    "\n"
   ]
  },
  {
   "cell_type": "code",
   "execution_count": null,
   "metadata": {},
   "outputs": [],
   "source": [
    "import pandas as pd\n",
    "from statsmodels.tsa.arima.model import ARIMA\n",
    "\n",
    "p, d, q = 1, 1, 1 \n",
    "model = ARIMA(finished_df['order_count'], order=(p, d, q))\n",
    "model_fit = model.fit()\n",
    "\n",
    "forecast_steps = 1\n",
    "future_dates = pd.date_range(start=pd.to_datetime('2014-07'), periods=forecast_steps, freq='M')\n",
    "future_forecast = model_fit.forecast(steps=forecast_steps)\n",
    "\n",
    "future_forecast_df = pd.DataFrame({'year_month': future_dates.strftime('%Y-%m'), 'order_count': int(future_forecast)})\n",
    "finished_df = pd.concat([finished_df, future_forecast_df])\n",
    "\n",
    "values_dict = {**values_dict, **{future_forecast_df.iloc[i]['year_month']: future_forecast_df.iloc[i]['order_count'] for i in range(len(future_forecast_df))}}\n",
    "\n",
    "values_dict = pd.DataFrame(values_dict, index=[0])\n",
    "values_dict\n"
   ]
  },
  {
   "cell_type": "markdown",
   "metadata": {},
   "source": [
    "grafiekje bruv"
   ]
  },
  {
   "cell_type": "code",
   "execution_count": null,
   "metadata": {},
   "outputs": [],
   "source": [
    "import matplotlib.pyplot as plt\n",
    "\n",
    "# Gegevens\n",
    "dates = values_dict.columns\n",
    "order_counts = values_dict.values[0]\n",
    "\n",
    "# Maak de plot\n",
    "plt.figure(figsize=(10, 6))\n",
    "plt.plot(dates, order_counts, marker='o', linestyle='-')\n",
    "plt.title('Voorspelde bestellingen voor AW')\n",
    "plt.xlabel('Year-Month')\n",
    "plt.ylabel('Order Count')\n",
    "plt.grid(True)\n",
    "plt.xticks(rotation=45)\n",
    "plt.tight_layout()\n",
    "plt.show()\n"
   ]
  },
  {
   "cell_type": "markdown",
   "metadata": {},
   "source": [
    "# Verwachtingen per kwartaal"
   ]
  },
  {
   "cell_type": "code",
   "execution_count": null,
   "metadata": {},
   "outputs": [],
   "source": [
    "import statsmodels.api as sm\n",
    "\n",
    "grouped_nw = orders_from_nw.groupby(['order_date']).agg({'id': 'count'})\n",
    "grouped_aw = orders_from_aw.groupby(['order_date']).agg({'id': 'count'})\n",
    "grouped_ac = orders_from_aenc.groupby(['order_date']).agg({'id': 'count'})\n",
    "\n",
    "all = [grouped_nw, grouped_aw, grouped_ac]"
   ]
  },
  {
   "cell_type": "code",
   "execution_count": null,
   "metadata": {},
   "outputs": [],
   "source": [
    "names = ['nw', 'aw', 'ac']\n",
    "values_dict = {}\n",
    "count = 0\n",
    "for data in all:\n",
    "    sorted_orders = data.reset_index().rename(columns={'id': 'order_count'})\n",
    "    sorted_orders['order_date'] = pd.to_datetime(sorted_orders['order_date'])\n",
    "    df = sorted_orders\n",
    "\n",
    "    df_grouped = df.groupby(pd.Grouper(key='order_date', freq='Q')).sum().reset_index()\n",
    "    df_grouped['year'] = df_grouped['order_date'].dt.year\n",
    "    df_grouped['quarter'] = df_grouped['order_date'].dt.quarter\n",
    "    df_grouped = df_grouped.drop(columns=['order_date'])\n",
    "    df_grouped = df_grouped[['year', 'quarter', 'order_count']]\n",
    "\n",
    "    df_sorted = df_grouped.sort_values(by=['year', 'quarter'])\n",
    "    values_dict['values_' + names[count]] = df_sorted\n",
    "    count += 1"
   ]
  },
  {
   "cell_type": "code",
   "execution_count": null,
   "metadata": {},
   "outputs": [],
   "source": [
    "nw_values = values_dict['values_nw'].copy()\n",
    "aw_values = values_dict['values_aw'].copy()\n",
    "ac_values = values_dict['values_ac'].copy()\n",
    "\n",
    "frames = [aw_values, nw_values, ac_values]\n",
    "aw_values\n"
   ]
  },
  {
   "cell_type": "code",
   "execution_count": null,
   "metadata": {},
   "outputs": [],
   "source": [
    "df = aw_values.copy()\n",
    "df['date'] = pd.to_datetime(df['year'].astype(str) + 'Q' + df['quarter'].astype(str))\n",
    "\n",
    "df.set_index('date', inplace=True)\n",
    "df.drop(columns=['year', 'quarter'], inplace=True)\n",
    "\n",
    "model = sm.tsa.ARIMA(df['order_count'], order=(1, 1, 1))  # You may need to tune the order parameters\n",
    "model_fit = model.fit()\n",
    "\n",
    "forecast = model_fit.forecast(steps=1)\n",
    "prediction = int(forecast)\n",
    "\n",
    "last_date = df.index[-1]\n",
    "next_date = (last_date + pd.offsets.QuarterEnd()).normalize()\n",
    "n_year = int(next_date.year)\n",
    "n_quarter = int(next_date.quarter) + 1\n",
    "\n",
    "aw_values = aw_values._append({'year': n_year, 'quarter':n_quarter, 'order_count': prediction}, ignore_index=True)\n",
    "aw_values\n"
   ]
  }
 ],
 "metadata": {
  "kernelspec": {
   "display_name": "deds-QGAv5BfX-py3.12",
   "language": "python",
   "name": "python3"
  },
  "language_info": {
   "codemirror_mode": {
    "name": "ipython",
    "version": 3
   },
   "file_extension": ".py",
   "mimetype": "text/x-python",
   "name": "python",
   "nbconvert_exporter": "python",
   "pygments_lexer": "ipython3",
   "version": "3.12.2"
  }
 },
 "nbformat": 4,
 "nbformat_minor": 2
}
